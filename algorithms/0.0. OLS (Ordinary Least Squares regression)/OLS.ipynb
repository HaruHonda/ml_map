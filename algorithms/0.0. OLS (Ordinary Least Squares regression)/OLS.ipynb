{
  "nbformat": 4,
  "nbformat_minor": 0,
  "metadata": {
    "kernelspec": {
      "display_name": "Python 3",
      "language": "python",
      "name": "python3"
    },
    "language_info": {
      "codemirror_mode": {
        "name": "ipython",
        "version": 3
      },
      "file_extension": ".py",
      "mimetype": "text/x-python",
      "name": "python",
      "nbconvert_exporter": "python",
      "pygments_lexer": "ipython3",
      "version": "3.6.7"
    },
    "colab": {
      "name": "OLS.ipynb",
      "provenance": [],
      "collapsed_sections": []
    }
  },
  "cells": [
    {
      "cell_type": "markdown",
      "metadata": {
        "id": "lRkyh5TSJmQV"
      },
      "source": [
        "# Haruki Honda#"
      ]
    },
    {
      "cell_type": "markdown",
      "metadata": {
        "id": "DpixxxGKJmQg"
      },
      "source": [
        "### Linear Regression ###\n",
        "##### In this exercise, you will implement linear regression that was introduced in the introduction Machine Learning Lecture. The method we are implementing here today is for a very basic univariate linear regression. We will approach it using two examples. #####\n",
        "\n",
        "### OLS using an artificial dataset ###\n",
        "#### ・ Generate some simple data. i.e. a matrix A with dimensions 100 x 2. Initialize it with normal distribution μ = 2 and σ = 1 ####"
      ]
    },
    {
      "cell_type": "code",
      "metadata": {
        "id": "RWpTTuXqJmQh",
        "outputId": "29daea18-73ae-4e41-bee8-20936d7f7bb8"
      },
      "source": [
        "a = np.random.normal(\n",
        "    loc   = 2,       # 平均\n",
        "    scale = 1,       # 標準偏差\n",
        "    size  = (100,2) # 出力配列のサイズ(タプルも可)\n",
        ")\n",
        "print(a)"
      ],
      "execution_count": null,
      "outputs": [
        {
          "name": "stdout",
          "output_type": "stream",
          "text": [
            "[[ 1.72107615  2.61266533]\n",
            " [ 3.28380019  1.65294712]\n",
            " [ 2.4369756   2.02487437]\n",
            " [ 2.2616924   2.4624664 ]\n",
            " [ 3.79899185  2.02992463]\n",
            " [ 3.53542918  1.1989585 ]\n",
            " [-0.15804041  2.84218691]\n",
            " [ 1.26921088  2.07924152]\n",
            " [ 1.74719991  2.9374554 ]\n",
            " [ 2.67340088  3.05170999]\n",
            " [ 2.93257374  3.69801716]\n",
            " [ 2.06539757  1.28927454]\n",
            " [ 2.5452985   1.88625938]\n",
            " [ 1.53722285  2.37303133]\n",
            " [ 2.75361296  0.20507473]\n",
            " [ 1.39927495  0.90034399]\n",
            " [ 2.50350153  2.39992949]\n",
            " [ 2.36285716  2.11168597]\n",
            " [ 2.94419038  0.66743631]\n",
            " [ 1.47606665  3.21498508]\n",
            " [ 1.8291255   1.46976557]\n",
            " [ 0.94030316  2.56354759]\n",
            " [ 2.11475447  1.48304165]\n",
            " [ 1.84221133  2.59211279]\n",
            " [ 1.8434      4.39738359]\n",
            " [ 2.0966956   0.3033102 ]\n",
            " [ 1.83433587  0.46534357]\n",
            " [ 1.21944045  4.10955355]\n",
            " [ 3.17570211  2.24441611]\n",
            " [ 1.01781537  2.60006148]\n",
            " [ 2.90551108  1.35977941]\n",
            " [ 1.32508989  0.38065016]\n",
            " [ 0.93050668  1.50692557]\n",
            " [ 3.15972432  2.25793565]\n",
            " [ 1.73336131  3.32857106]\n",
            " [ 2.31883517  3.43773844]\n",
            " [ 1.98548559  3.77374836]\n",
            " [ 0.5609058   1.65451939]\n",
            " [ 3.23145401  2.32698315]\n",
            " [ 1.73719972  2.44669394]\n",
            " [ 3.38667505  2.59284719]\n",
            " [ 2.86537494  1.98935317]\n",
            " [ 1.71111661  2.86333617]\n",
            " [ 0.69783152  2.49969968]\n",
            " [ 1.19984743  2.05656305]\n",
            " [ 0.95790497  3.53755681]\n",
            " [ 1.90320032  3.59382406]\n",
            " [ 1.79850063  1.60206752]\n",
            " [ 0.49494604  1.84530682]\n",
            " [ 2.75172633  3.46194823]\n",
            " [ 1.72043098  1.84892269]\n",
            " [ 2.79373523  1.44803939]\n",
            " [ 2.33952281  0.57139722]\n",
            " [ 2.18647298  3.03809723]\n",
            " [ 0.70034976  1.15339743]\n",
            " [ 1.95717535  1.40777221]\n",
            " [ 2.9141629   2.74576286]\n",
            " [ 5.43880669  1.84842582]\n",
            " [ 2.55787706  1.35591602]\n",
            " [ 0.47197723 -0.36113339]\n",
            " [ 1.76247783  0.84300306]\n",
            " [ 2.72795492  2.27237484]\n",
            " [ 2.29889497  0.93561514]\n",
            " [ 1.69437657  1.28054479]\n",
            " [ 1.50837633  2.29571413]\n",
            " [ 1.32540605  3.48999931]\n",
            " [ 2.0382022   2.56669956]\n",
            " [ 2.65667796  0.49974738]\n",
            " [ 2.0721622   3.04547696]\n",
            " [ 1.97972849  2.46410447]\n",
            " [ 0.95593458  1.27893644]\n",
            " [ 1.1807382  -0.04814655]\n",
            " [ 2.25898431  2.1545836 ]\n",
            " [ 3.20849795  2.68225796]\n",
            " [ 2.13636229  1.68745725]\n",
            " [ 2.30491994  1.3917941 ]\n",
            " [ 1.29842743  1.38447315]\n",
            " [ 1.3409578   1.94727596]\n",
            " [ 4.22587207  2.30850392]\n",
            " [ 4.81417086  2.56543205]\n",
            " [ 1.20739121  3.30128903]\n",
            " [ 2.70572947  1.90590483]\n",
            " [ 1.48121781  3.09225801]\n",
            " [ 2.43786808  1.97937386]\n",
            " [ 3.9456821   2.22512979]\n",
            " [ 1.6533923   3.34491218]\n",
            " [ 2.53728765  1.7598676 ]\n",
            " [ 1.88153432  2.45985849]\n",
            " [ 2.93913281  1.80921443]\n",
            " [ 0.99391303  0.7935211 ]\n",
            " [ 3.03973486  1.84203086]\n",
            " [ 0.53009105  3.34942138]\n",
            " [ 2.29298386  3.81685114]\n",
            " [ 1.67184189  2.63910144]\n",
            " [ 1.15858886  0.81516254]\n",
            " [ 2.99956449  2.11025444]\n",
            " [ 1.87710475  1.91409625]\n",
            " [ 1.38452463  3.94542434]\n",
            " [ 2.7928979   1.31465147]\n",
            " [ 1.80397967  1.28243733]]\n"
          ]
        }
      ]
    },
    {
      "cell_type": "markdown",
      "metadata": {
        "id": "ltHGA2mTJmQh"
      },
      "source": [
        "#### ・ Implement LEARN-SIMPLE-LINREG algorithm and train it using matrix A to learn values of β0 and β1 (1 point) ####"
      ]
    },
    {
      "cell_type": "code",
      "metadata": {
        "id": "hxeK7mjqJmQh",
        "outputId": "83e89a8e-9f00-40eb-b76c-3454b0297b33"
      },
      "source": [
        "x = []\n",
        "y = []\n",
        "ayMatrix = []\n",
        "\n",
        "for i in a:\n",
        "    ay = (i[1,])\n",
        "    y.append(ay)\n",
        "    ax = (i[0,])\n",
        "    x.append(ax)\n",
        "    #print(i[,1])\n",
        "    #x = np.array([0,0.5,1,1.5,2,2.5,3,3.5,4])\n",
        "    #y = np.array([3/18,5/6,3/8,2/2,3/4,3/3,8/8,5/5,16/17])\n",
        "\n",
        "print(x)\n",
        "print(y)\n",
        "x = np.array(x)\n",
        "y = np.array(y)"
      ],
      "execution_count": null,
      "outputs": [
        {
          "name": "stdout",
          "output_type": "stream",
          "text": [
            "[1.7210761495589053, 3.2838001921461766, 2.43697560437535, 2.2616923997651917, 3.7989918523619175, 3.5354291814145826, -0.15804040923017704, 1.2692108774637976, 1.7471999073062632, 2.673400879394973, 2.9325737416160167, 2.0653975702732823, 2.5452984961436496, 1.5372228482753147, 2.7536129634457502, 1.3992749473585622, 2.5035015299611683, 2.3628571592876373, 2.9441903817546384, 1.4760666474295698, 1.829125495975587, 0.940303155206053, 2.114754469440445, 1.8422113332090608, 1.8434000013800513, 2.096695602811469, 1.8343358733140007, 1.2194404478358296, 3.1757021128478624, 1.0178153706047373, 2.9055110763966994, 1.325089890961588, 0.9305066753147171, 3.1597243236498653, 1.7333613089520326, 2.3188351675158754, 1.9854855895243269, 0.5609058043813084, 3.2314540076506773, 1.7371997185684895, 3.386675046523133, 2.865374939216901, 1.7111166059364884, 0.6978315248951412, 1.1998474301172706, 0.957904973464561, 1.903200316275261, 1.7985006349731498, 0.49494604319825575, 2.751726329763868, 1.7204309820323238, 2.793735232748234, 2.339522805195978, 2.186472984555378, 0.7003497566272281, 1.957175347588435, 2.9141629046872692, 5.438806685018901, 2.557877055631678, 0.4719772306896577, 1.762477829217541, 2.7279549165150185, 2.2988949658063738, 1.6943765744476207, 1.5083763254543747, 1.3254060516695028, 2.038202199010974, 2.6566779590393876, 2.072162202176756, 1.9797284889358129, 0.9559345785936961, 1.180738200446549, 2.2589843050693847, 3.2084979468654353, 2.136362293701893, 2.304919941820745, 1.2984274252835204, 1.3409577959897043, 4.225872066815895, 4.8141708623359225, 1.2073912068272485, 2.7057294704379045, 1.4812178058691488, 2.4378680836143025, 3.9456820994492237, 1.6533922997542738, 2.5372876486824696, 1.881534323685904, 2.9391328067622866, 0.9939130309595463, 3.03973485675029, 0.5300910528318321, 2.2929838641622333, 1.671841892895291, 1.1585888550157721, 2.999564493344895, 1.8771047504893563, 1.3845246252713994, 2.792897901624742, 1.8039796668957304]\n",
            "[2.612665333635423, 1.6529471180594646, 2.024874374733154, 2.4624663993104194, 2.029924626914575, 1.1989584989671953, 2.8421869125339354, 2.0792415192137454, 2.937455399982441, 3.0517099850977196, 3.6980171636093755, 1.2892745435242174, 1.8862593842174544, 2.3730313317205143, 0.20507472639307056, 0.9003439932501662, 2.399929485427645, 2.1116859680230853, 0.6674363112958202, 3.214985083578135, 1.4697655664026967, 2.5635475884340684, 1.4830416482390016, 2.592112794827275, 4.397383591938235, 0.303310197980456, 0.4653435694174235, 4.109553553033717, 2.2444161073290303, 2.6000614841054928, 1.3597794068559845, 0.38065015763981913, 1.5069255698409547, 2.257935645433987, 3.328571057816572, 3.437738444864017, 3.773748361493883, 1.654519392433971, 2.326983152335714, 2.4466939396038345, 2.59284719137873, 1.9893531743491044, 2.8633361698845365, 2.499699677923196, 2.056563053081682, 3.5375568107459543, 3.593824057288111, 1.6020675153247743, 1.8453068227295695, 3.461948227685773, 1.8489226911516694, 1.4480393910916673, 0.571397222355555, 3.038097226662621, 1.1533974287549011, 1.4077722118030247, 2.7457628595888695, 1.8484258243829808, 1.3559160241434687, -0.36113339011697576, 0.8430030603706253, 2.2723748356626436, 0.9356151447159278, 1.28054479034118, 2.2957141271423525, 3.489999310285831, 2.5666995626996867, 0.4997473827068242, 3.0454769644869586, 2.464104468492138, 1.2789364377019652, -0.048146546944278334, 2.154583600854184, 2.682257958351443, 1.6874572489204878, 1.3917940971220188, 1.3844731547168894, 1.9472759603283754, 2.3085039153622544, 2.565432048061737, 3.3012890319213026, 1.9059048320758927, 3.092258009348183, 1.9793738623532307, 2.225129787732474, 3.344912182495861, 1.759867598403962, 2.4598584854311576, 1.8092144290553889, 0.7935211040999233, 1.8420308642849785, 3.349421380706068, 3.816851137612252, 2.6391014448637673, 0.8151625444469883, 2.110254442152689, 1.9140962465865552, 3.9454243402809857, 1.3146514726484164, 1.282437326330798]\n"
          ]
        }
      ]
    },
    {
      "cell_type": "code",
      "metadata": {
        "id": "aZ8sP1jVJmQh",
        "outputId": "acdc5e01-8273-40f4-aad8-9386643de4aa"
      },
      "source": [
        "import pandas as pd\n",
        "import statsmodels.formula.api as sm\n",
        "df = pd.DataFrame({\"variable\": x, \"objective\": y})\n",
        "result = sm.ols(formula=\"objective ~ variable\", data=df).fit()\n",
        "print(result.params)"
      ],
      "execution_count": null,
      "outputs": [
        {
          "name": "stdout",
          "output_type": "stream",
          "text": [
            "Intercept    2.133923\n",
            "variable    -0.015350\n",
            "dtype: float64\n"
          ]
        }
      ]
    },
    {
      "cell_type": "markdown",
      "metadata": {
        "id": "kCXoYKm0JmQh"
      },
      "source": [
        "#### ・ Implement PREDICT-SIMPLE-LINREG and calculate the points for each training example in matrix A. (1 point) ####"
      ]
    },
    {
      "cell_type": "code",
      "metadata": {
        "id": "Xkp3JTWeJmQi",
        "outputId": "dc0a800a-797e-47de-b34f-47f3763ec880"
      },
      "source": [
        "for xi in x:\n",
        "    y1 = 2.083215*xi + 0.007009\n",
        "    print(y1)"
      ],
      "execution_count": null,
      "outputs": [
        {
          "name": "stdout",
          "output_type": "stream",
          "text": [
            "3.592380650903355\n",
            "6.847870817281797\n",
            "5.083753133668795\n",
            "4.718600532576843\n",
            "7.921125811718132\n",
            "7.37206810216058\n",
            "-0.3222231511144433\n",
            "2.6510481380957454\n",
            "3.646802054899017\n",
            "5.576277812968798\n",
            "6.11619060714061\n",
            "4.309676199356856\n",
            "5.309413006643893\n",
            "3.20937469586986\n",
            "5.743376829644639\n",
            "2.9219995594615673\n",
            "5.222340939738055\n",
            "4.929348477085395\n",
            "6.140390566126989\n",
            "3.0819731809249915\n",
            "3.8174706700987824\n",
            "1.9658626374725778\n",
            "4.412497232055377\n",
            "3.844731282511114\n",
            "3.847207533874944\n",
            "4.374876730210895\n",
            "3.828325006325826\n",
            "2.547365632538318\n",
            "6.62267927701636\n",
            "2.127337247274348\n",
            "6.05981325701575\n",
            "2.7674561371995448\n",
            "1.9454544636157485\n",
            "6.589394106892255\n",
            "3.6179732792285084\n",
            "4.8376412034965846\n",
            "4.14320236238092\n",
            "1.1754963852742075\n",
            "6.738822460548006\n",
            "3.6259695117176562\n",
            "7.062181257042688\n",
            "5.976201054000736\n",
            "3.5716327802359817\n",
            "1.4607421001344316\n",
            "2.50654916413175\n",
            "2.0025310092959754\n",
            "3.971784446869368\n",
            "3.7536725002855906\n",
            "1.0380880213812544\n",
            "5.739446566059036\n",
            "3.5910366282344675\n",
            "5.826960142889612\n",
            "4.880738000626339\n",
            "4.561902318520532\n",
            "1.465988118252191\n",
            "4.084226041726442\n",
            "6.07783687548809\n",
            "11.337212668331649\n",
            "5.335616850447746\n",
            "0.9902390466311553\n",
            "3.6786292509934198\n",
            "5.689925601407834\n",
            "4.796101476192325\n",
            "3.5367596955379\n",
            "3.1492811868314354\n",
            "2.7681147679286835\n",
            "4.253022394012646\n",
            "5.541440374440238\n",
            "4.323768382007651\n",
            "4.13120908407842\n",
            "1.9984262531450667\n",
            "2.4667405302432575\n",
            "4.712958989085118\n",
            "6.691000050379278\n",
            "4.4575109756741895\n",
            "4.808652796600104\n",
            "2.711912488762009\n",
            "2.8005123949726918\n",
            "8.810409077671874\n",
            "10.035961952981129\n",
            "2.5222644729306265\n",
            "5.6436252187583\n",
            "3.092704151453699\n",
            "5.08561235980657\n",
            "8.226713134804115\n",
            "3.4513806397325997\n",
            "5.2927246890500514\n",
            "3.9266495261173304\n",
            "6.129854550039297\n",
            "2.0775435347903914\n",
            "6.339430249605056\n",
            "1.1113026326250652\n",
            "4.783787380580727\n",
            "3.4898151089078637\n",
            "2.420598681601682\n",
            "6.255746746003486\n",
            "3.9174217727906844\n",
            "2.8912714672347586\n",
            "5.825215802133187\n",
            "3.7650865017721893\n"
          ]
        }
      ]
    },
    {
      "cell_type": "markdown",
      "metadata": {
        "id": "AQB1km3gJmQi"
      },
      "source": [
        "#### ・ Plot the training data (use plt.scatter) and your predicted line (use plt.plot). (1point) ####"
      ]
    },
    {
      "cell_type": "code",
      "metadata": {
        "id": "t4eJPlAIJmQi",
        "outputId": "5bb061da-9ffe-49fc-862e-bae6e9716a0b"
      },
      "source": [
        "import numpy as np\n",
        "import matplotlib.pyplot as plt\n",
        "\n",
        "def variables(x, y):\n",
        "    number_studentPassed = len(x)\n",
        "    a = ((np.dot(x, y)- y.sum() * x.sum()/number_studentPassed)/\n",
        "        ((x ** 2).sum() - x.sum()**2 / number_studentPassed))\n",
        "    b = (y.sum() - a * x.sum())/number_studentPassed\n",
        "    return a, b\n",
        "\n",
        "\n",
        "a, b = variables(x, y)\n",
        "#print(a,b)\n",
        "plt.title(\"predicted line from the train data\")\n",
        "plt.xlabel(\"x\")\n",
        "plt.ylabel(\"y\")\n",
        "plt.scatter(x, y, color=\"k\")\n",
        "plt.plot([0, x.max()], [b, a * x.max() + b])\n",
        "plt.show()"
      ],
      "execution_count": null,
      "outputs": [
        {
          "data": {
            "image/png": "[encoded data removed]",
            "text/plain": [
              "<Figure size 432x288 with 1 Axes>"
            ]
          },
          "metadata": {},
          "output_type": "display_data"
        }
      ]
    },
    {
      "cell_type": "markdown",
      "metadata": {
        "id": "gLh-POBeJmQi"
      },
      "source": [
        "#### ・ Put β0 to zero and rerun the program to generate the predicted line. Comment on the change you see for the varying values of σ(1 point) ####"
      ]
    },
    {
      "cell_type": "code",
      "metadata": {
        "id": "6WDW_T5GJmQi",
        "outputId": "75dbccbf-c9b8-49e6-a015-3fdc0e0d0764"
      },
      "source": [
        "import numpy as np\n",
        "import matplotlib.pyplot as plt\n",
        "\n",
        "def variables(x, y):\n",
        "    number_studentPassed = len(x)\n",
        "    a = ((np.dot(x, y)- y.sum() * x.sum()/number_studentPassed)/\n",
        "        ((x ** 2).sum() - x.sum()**2 / number_studentPassed))\n",
        "    b = (y.sum() - a * x.sum())/number_studentPassed\n",
        "    return a, b\n",
        "\n",
        "a, b = variables(x, y)\n",
        "#print(a,b)\n",
        "plt.title(\"β0 to zero and rerun the program to generate the predicted line\")\n",
        "plt.xlabel(\"x\")\n",
        "plt.ylabel(\"y\")\n",
        "plt.scatter(x, y, color=\"k\")\n",
        "plt.plot([0, x.max()], [0, a * x.max() + 0])\n",
        "plt.show()"
      ],
      "execution_count": null,
      "outputs": [
        {
          "data": {
            "image/png": "[encoded data removed]",
            "text/plain": [
              "<Figure size 432x288 with 1 Axes>"
            ]
          },
          "metadata": {},
          "output_type": "display_data"
        }
      ]
    },
    {
      "cell_type": "markdown",
      "metadata": {
        "id": "Kt0Bd6BTJmQj"
      },
      "source": [
        "##### σ is a standard deviation and as β0 to zero the standard deviations become bigger. that's because the points dense at the middle #####"
      ]
    },
    {
      "cell_type": "markdown",
      "metadata": {
        "id": "u3T_in-CJmQj"
      },
      "source": [
        "#### ・Put β1 to zero and rerun the program to generate the predicted line. Comment on the change you see for the varying values of σ(1 point) ####"
      ]
    },
    {
      "cell_type": "code",
      "metadata": {
        "id": "8kjjvqfVJmQj",
        "outputId": "638cac67-9ff9-481b-88b7-e93c92389ddc"
      },
      "source": [
        "import numpy as np\n",
        "import matplotlib.pyplot as plt\n",
        "\n",
        "def variables(x, y):\n",
        "    number_studentPassed = len(x)\n",
        "    a = ((np.dot(x, y)- y.sum() * x.sum()/number_studentPassed)/\n",
        "        ((x ** 2).sum() - x.sum()**2 / number_studentPassed))\n",
        "    b = (y.sum() - a * x.sum())/number_studentPassed\n",
        "    return a, b\n",
        "\n",
        "\n",
        "a, b = variables(x, y)\n",
        "#print(a,b)\n",
        "plt.title(\"β1 to zero and rerun the program to generate the predicted line\")\n",
        "plt.xlabel(\"x\")\n",
        "plt.ylabel(\"y\")\n",
        "plt.scatter(x, y, color=\"k\")\n",
        "plt.plot([0, x.max()], [b, 0 * x.max() + b])\n",
        "plt.show()"
      ],
      "execution_count": null,
      "outputs": [
        {
          "data": {
            "image/png": "[encoded data removed]",
            "text/plain": [
              "<Figure size 432x288 with 1 Axes>"
            ]
          },
          "metadata": {},
          "output_type": "display_data"
        }
      ]
    },
    {
      "cell_type": "markdown",
      "metadata": {
        "id": "E5y_2Gg2JmQj"
      },
      "source": [
        "#### Since the points dense at the middle, σ got smaller compering with the previous standard deviations.####"
      ]
    },
    {
      "cell_type": "markdown",
      "metadata": {
        "id": "tlPBDLgDJmQj"
      },
      "source": [
        "#### ・Use numpy.linalg lstsq to replace step 2 for learning values of β0 and β1. Explain the difference between your values and the values from numpy.linalg lstsq.(1 point) ####"
      ]
    },
    {
      "cell_type": "code",
      "metadata": {
        "id": "FXWdPuFbJmQj",
        "outputId": "586c5599-aa71-4afe-ff29-9f125ae35958"
      },
      "source": [
        "from scipy.linalg import lstsq\n",
        "import numpy as np\n",
        "import matplotlib.pyplot as plt\n",
        "\n",
        "# pylint: disable=invalid-name\n",
        "\n",
        "# Sampling data set.\n",
        "xd = x\n",
        "yd = y\n",
        "\n",
        "# Solve the linear least squares problem.\n",
        "A = np.c_[xd[:, np.newaxis], np.ones(xd.shape[0])]\n",
        "B = yd\n",
        "X, residues, rank, s = lstsq(A, B)\n",
        "\n",
        "# Show the regression curve (line).\n",
        "a = X[0]\n",
        "b = X[1]\n",
        "print(f\"Line: y = {a:.3f}x {b:+.3f}\")\n",
        "\n",
        "# Plot both the sampling data and the regression curve.\n",
        "# pylint: disable=invalid-slice-index\n",
        "plt.figure()\n",
        "xs = np.r_[min(xd):max(xd):15j]\n",
        "ys = a * xs + b\n",
        "plt.title(\"numpy.linalg lstsq to replace step 2 for learning values of β0 and β1\")\n",
        "plt.xlabel(\"x\")\n",
        "plt.ylabel(\"y\")\n",
        "plt.plot(xs, ys)\n",
        "plt.scatter(xd, yd,color=\"k\")\n",
        "plt.legend()\n",
        "plt.show()"
      ],
      "execution_count": null,
      "outputs": [
        {
          "name": "stderr",
          "output_type": "stream",
          "text": [
            "No handles with labels found to put in legend.\n"
          ]
        },
        {
          "name": "stdout",
          "output_type": "stream",
          "text": [
            "Line: y = -0.015x +2.134\n"
          ]
        },
        {
          "data": {
            "image/png": "[encoded data removed]",
            "text/plain": [
              "<Figure size 432x288 with 1 Axes>"
            ]
          },
          "metadata": {},
          "output_type": "display_data"
        }
      ]
    },
    {
      "cell_type": "markdown",
      "metadata": {
        "collapsed": true,
        "id": "Qzkr1XLIJmQk"
      },
      "source": [
        "##### There is no diffrence between my values and the values from numpy.linalg lstsq. #####"
      ]
    },
    {
      "cell_type": "markdown",
      "metadata": {
        "id": "5FDfGQY_JmQk"
      },
      "source": [
        "### 1.2.2 OLS using a Real dataset 6 Points ###\n",
        "##### DATA: #####\n",
        "##### A : Download the MPG data from this link. (Use the auto-mpg.data \fle)[1]. This dataset was taken from the StatLib library which is maintained at Carnegie Mellon University. The dataset was used in the 1983 American Statistical Association Exposition. Read the dataset description to understand which columns exist in the dataset and how to use them. #####\n",
        "#### ・ Load the dataset and split it into our uni-variate case. use 'Displacement' as the independent variable and 'MPG' as the dependant variable. ####"
      ]
    },
    {
      "cell_type": "code",
      "metadata": {
        "id": "pdSQaCAeJmQk",
        "outputId": "bea2991f-c0c1-4194-8c77-cc3ea0c548cc"
      },
      "source": [
        "import pandas as pd\n",
        "from IPython.display import display\n",
        "f = open('/Users/HarukiHonda/Desktop/Lab Programming/Ex1/auto-mpg.data','r')\n",
        "x =[]\n",
        "y =[]\n",
        "for i in f:\n",
        "    x.append(float(i.split()[0]))\n",
        "    y.append(float(i.split()[2]))   \n",
        "# print(x)\n",
        "# print(y)\n",
        "mat = np.column_stack((x,y))\n",
        "print(mat)"
      ],
      "execution_count": null,
      "outputs": [
        {
          "name": "stdout",
          "output_type": "stream",
          "text": [
            "[[ 18.  307. ]\n",
            " [ 15.  350. ]\n",
            " [ 18.  318. ]\n",
            " [ 16.  304. ]\n",
            " [ 17.  302. ]\n",
            " [ 15.  429. ]\n",
            " [ 14.  454. ]\n",
            " [ 14.  440. ]\n",
            " [ 14.  455. ]\n",
            " [ 15.  390. ]\n",
            " [ 15.  383. ]\n",
            " [ 14.  340. ]\n",
            " [ 15.  400. ]\n",
            " [ 14.  455. ]\n",
            " [ 24.  113. ]\n",
            " [ 22.  198. ]\n",
            " [ 18.  199. ]\n",
            " [ 21.  200. ]\n",
            " [ 27.   97. ]\n",
            " [ 26.   97. ]\n",
            " [ 25.  110. ]\n",
            " [ 24.  107. ]\n",
            " [ 25.  104. ]\n",
            " [ 26.  121. ]\n",
            " [ 21.  199. ]\n",
            " [ 10.  360. ]\n",
            " [ 10.  307. ]\n",
            " [ 11.  318. ]\n",
            " [  9.  304. ]\n",
            " [ 27.   97. ]\n",
            " [ 28.  140. ]\n",
            " [ 25.  113. ]\n",
            " [ 25.   98. ]\n",
            " [ 19.  232. ]\n",
            " [ 16.  225. ]\n",
            " [ 17.  250. ]\n",
            " [ 19.  250. ]\n",
            " [ 18.  232. ]\n",
            " [ 14.  350. ]\n",
            " [ 14.  400. ]\n",
            " [ 14.  351. ]\n",
            " [ 14.  318. ]\n",
            " [ 12.  383. ]\n",
            " [ 13.  400. ]\n",
            " [ 13.  400. ]\n",
            " [ 18.  258. ]\n",
            " [ 22.  140. ]\n",
            " [ 19.  250. ]\n",
            " [ 18.  250. ]\n",
            " [ 23.  122. ]\n",
            " [ 28.  116. ]\n",
            " [ 30.   79. ]\n",
            " [ 30.   88. ]\n",
            " [ 31.   71. ]\n",
            " [ 35.   72. ]\n",
            " [ 27.   97. ]\n",
            " [ 26.   91. ]\n",
            " [ 24.  113. ]\n",
            " [ 25.   97.5]\n",
            " [ 23.   97. ]\n",
            " [ 20.  140. ]\n",
            " [ 21.  122. ]\n",
            " [ 13.  350. ]\n",
            " [ 14.  400. ]\n",
            " [ 15.  318. ]\n",
            " [ 14.  351. ]\n",
            " [ 17.  304. ]\n",
            " [ 11.  429. ]\n",
            " [ 13.  350. ]\n",
            " [ 12.  350. ]\n",
            " [ 13.  400. ]\n",
            " [ 19.   70. ]\n",
            " [ 15.  304. ]\n",
            " [ 13.  307. ]\n",
            " [ 13.  302. ]\n",
            " [ 14.  318. ]\n",
            " [ 18.  121. ]\n",
            " [ 22.  121. ]\n",
            " [ 21.  120. ]\n",
            " [ 26.   96. ]\n",
            " [ 22.  122. ]\n",
            " [ 28.   97. ]\n",
            " [ 23.  120. ]\n",
            " [ 28.   98. ]\n",
            " [ 27.   97. ]\n",
            " [ 13.  350. ]\n",
            " [ 14.  304. ]\n",
            " [ 13.  350. ]\n",
            " [ 14.  302. ]\n",
            " [ 15.  318. ]\n",
            " [ 12.  429. ]\n",
            " [ 13.  400. ]\n",
            " [ 13.  351. ]\n",
            " [ 14.  318. ]\n",
            " [ 13.  440. ]\n",
            " [ 12.  455. ]\n",
            " [ 13.  360. ]\n",
            " [ 18.  225. ]\n",
            " [ 16.  250. ]\n",
            " [ 18.  232. ]\n",
            " [ 18.  250. ]\n",
            " [ 23.  198. ]\n",
            " [ 26.   97. ]\n",
            " [ 11.  400. ]\n",
            " [ 12.  400. ]\n",
            " [ 13.  360. ]\n",
            " [ 12.  350. ]\n",
            " [ 18.  232. ]\n",
            " [ 20.   97. ]\n",
            " [ 21.  140. ]\n",
            " [ 22.  108. ]\n",
            " [ 18.   70. ]\n",
            " [ 19.  122. ]\n",
            " [ 21.  155. ]\n",
            " [ 26.   98. ]\n",
            " [ 15.  350. ]\n",
            " [ 16.  400. ]\n",
            " [ 29.   68. ]\n",
            " [ 24.  116. ]\n",
            " [ 20.  114. ]\n",
            " [ 19.  121. ]\n",
            " [ 15.  318. ]\n",
            " [ 24.  121. ]\n",
            " [ 20.  156. ]\n",
            " [ 11.  350. ]\n",
            " [ 20.  198. ]\n",
            " [ 21.  200. ]\n",
            " [ 19.  232. ]\n",
            " [ 15.  250. ]\n",
            " [ 31.   79. ]\n",
            " [ 26.  122. ]\n",
            " [ 32.   71. ]\n",
            " [ 25.  140. ]\n",
            " [ 16.  250. ]\n",
            " [ 16.  258. ]\n",
            " [ 18.  225. ]\n",
            " [ 16.  302. ]\n",
            " [ 13.  350. ]\n",
            " [ 14.  318. ]\n",
            " [ 14.  302. ]\n",
            " [ 14.  304. ]\n",
            " [ 29.   98. ]\n",
            " [ 26.   79. ]\n",
            " [ 26.   97. ]\n",
            " [ 31.   76. ]\n",
            " [ 32.   83. ]\n",
            " [ 28.   90. ]\n",
            " [ 24.   90. ]\n",
            " [ 26.  116. ]\n",
            " [ 24.  120. ]\n",
            " [ 26.  108. ]\n",
            " [ 31.   79. ]\n",
            " [ 19.  225. ]\n",
            " [ 18.  250. ]\n",
            " [ 15.  250. ]\n",
            " [ 15.  250. ]\n",
            " [ 16.  400. ]\n",
            " [ 15.  350. ]\n",
            " [ 16.  318. ]\n",
            " [ 14.  351. ]\n",
            " [ 17.  231. ]\n",
            " [ 16.  250. ]\n",
            " [ 15.  258. ]\n",
            " [ 18.  225. ]\n",
            " [ 21.  231. ]\n",
            " [ 20.  262. ]\n",
            " [ 13.  302. ]\n",
            " [ 29.   97. ]\n",
            " [ 23.  140. ]\n",
            " [ 20.  232. ]\n",
            " [ 23.  140. ]\n",
            " [ 24.  134. ]\n",
            " [ 25.   90. ]\n",
            " [ 24.  119. ]\n",
            " [ 18.  171. ]\n",
            " [ 29.   90. ]\n",
            " [ 19.  232. ]\n",
            " [ 23.  115. ]\n",
            " [ 23.  120. ]\n",
            " [ 22.  121. ]\n",
            " [ 25.  121. ]\n",
            " [ 33.   91. ]\n",
            " [ 28.  107. ]\n",
            " [ 25.  116. ]\n",
            " [ 25.  140. ]\n",
            " [ 26.   98. ]\n",
            " [ 27.  101. ]\n",
            " [ 17.5 305. ]\n",
            " [ 16.  318. ]\n",
            " [ 15.5 304. ]\n",
            " [ 14.5 351. ]\n",
            " [ 22.  225. ]\n",
            " [ 22.  250. ]\n",
            " [ 24.  200. ]\n",
            " [ 22.5 232. ]\n",
            " [ 29.   85. ]\n",
            " [ 24.5  98. ]\n",
            " [ 29.   90. ]\n",
            " [ 33.   91. ]\n",
            " [ 20.  225. ]\n",
            " [ 18.  250. ]\n",
            " [ 18.5 250. ]\n",
            " [ 17.5 258. ]\n",
            " [ 29.5  97. ]\n",
            " [ 32.   85. ]\n",
            " [ 28.   97. ]\n",
            " [ 26.5 140. ]\n",
            " [ 20.  130. ]\n",
            " [ 13.  318. ]\n",
            " [ 19.  120. ]\n",
            " [ 19.  156. ]\n",
            " [ 16.5 168. ]\n",
            " [ 16.5 350. ]\n",
            " [ 13.  350. ]\n",
            " [ 13.  302. ]\n",
            " [ 13.  318. ]\n",
            " [ 31.5  98. ]\n",
            " [ 30.  111. ]\n",
            " [ 36.   79. ]\n",
            " [ 25.5 122. ]\n",
            " [ 33.5  85. ]\n",
            " [ 17.5 305. ]\n",
            " [ 17.  260. ]\n",
            " [ 15.5 318. ]\n",
            " [ 15.  302. ]\n",
            " [ 17.5 250. ]\n",
            " [ 20.5 231. ]\n",
            " [ 19.  225. ]\n",
            " [ 18.5 250. ]\n",
            " [ 16.  400. ]\n",
            " [ 15.5 350. ]\n",
            " [ 15.5 400. ]\n",
            " [ 16.  351. ]\n",
            " [ 29.   97. ]\n",
            " [ 24.5 151. ]\n",
            " [ 26.   97. ]\n",
            " [ 25.5 140. ]\n",
            " [ 30.5  98. ]\n",
            " [ 33.5  98. ]\n",
            " [ 30.   97. ]\n",
            " [ 30.5  97. ]\n",
            " [ 22.  146. ]\n",
            " [ 21.5 121. ]\n",
            " [ 21.5  80. ]\n",
            " [ 43.1  90. ]\n",
            " [ 36.1  98. ]\n",
            " [ 32.8  78. ]\n",
            " [ 39.4  85. ]\n",
            " [ 36.1  91. ]\n",
            " [ 19.9 260. ]\n",
            " [ 19.4 318. ]\n",
            " [ 20.2 302. ]\n",
            " [ 19.2 231. ]\n",
            " [ 20.5 200. ]\n",
            " [ 20.2 200. ]\n",
            " [ 25.1 140. ]\n",
            " [ 20.5 225. ]\n",
            " [ 19.4 232. ]\n",
            " [ 20.6 231. ]\n",
            " [ 20.8 200. ]\n",
            " [ 18.6 225. ]\n",
            " [ 18.1 258. ]\n",
            " [ 19.2 305. ]\n",
            " [ 17.7 231. ]\n",
            " [ 18.1 302. ]\n",
            " [ 17.5 318. ]\n",
            " [ 30.   98. ]\n",
            " [ 27.5 134. ]\n",
            " [ 27.2 119. ]\n",
            " [ 30.9 105. ]\n",
            " [ 21.1 134. ]\n",
            " [ 23.2 156. ]\n",
            " [ 23.8 151. ]\n",
            " [ 23.9 119. ]\n",
            " [ 20.3 131. ]\n",
            " [ 17.  163. ]\n",
            " [ 21.6 121. ]\n",
            " [ 16.2 163. ]\n",
            " [ 31.5  89. ]\n",
            " [ 29.5  98. ]\n",
            " [ 21.5 231. ]\n",
            " [ 19.8 200. ]\n",
            " [ 22.3 140. ]\n",
            " [ 20.2 232. ]\n",
            " [ 20.6 225. ]\n",
            " [ 17.  305. ]\n",
            " [ 17.6 302. ]\n",
            " [ 16.5 351. ]\n",
            " [ 18.2 318. ]\n",
            " [ 16.9 350. ]\n",
            " [ 15.5 351. ]\n",
            " [ 19.2 267. ]\n",
            " [ 18.5 360. ]\n",
            " [ 31.9  89. ]\n",
            " [ 34.1  86. ]\n",
            " [ 35.7  98. ]\n",
            " [ 27.4 121. ]\n",
            " [ 25.4 183. ]\n",
            " [ 23.  350. ]\n",
            " [ 27.2 141. ]\n",
            " [ 23.9 260. ]\n",
            " [ 34.2 105. ]\n",
            " [ 34.5 105. ]\n",
            " [ 31.8  85. ]\n",
            " [ 37.3  91. ]\n",
            " [ 28.4 151. ]\n",
            " [ 28.8 173. ]\n",
            " [ 26.8 173. ]\n",
            " [ 33.5 151. ]\n",
            " [ 41.5  98. ]\n",
            " [ 38.1  89. ]\n",
            " [ 32.1  98. ]\n",
            " [ 37.2  86. ]\n",
            " [ 28.  151. ]\n",
            " [ 26.4 140. ]\n",
            " [ 24.3 151. ]\n",
            " [ 19.1 225. ]\n",
            " [ 34.3  97. ]\n",
            " [ 29.8 134. ]\n",
            " [ 31.3 120. ]\n",
            " [ 37.  119. ]\n",
            " [ 32.2 108. ]\n",
            " [ 46.6  86. ]\n",
            " [ 27.9 156. ]\n",
            " [ 40.8  85. ]\n",
            " [ 44.3  90. ]\n",
            " [ 43.4  90. ]\n",
            " [ 36.4 121. ]\n",
            " [ 30.  146. ]\n",
            " [ 44.6  91. ]\n",
            " [ 40.9  85. ]\n",
            " [ 33.8  97. ]\n",
            " [ 29.8  89. ]\n",
            " [ 32.7 168. ]\n",
            " [ 23.7  70. ]\n",
            " [ 35.  122. ]\n",
            " [ 23.6 140. ]\n",
            " [ 32.4 107. ]\n",
            " [ 27.2 135. ]\n",
            " [ 26.6 151. ]\n",
            " [ 25.8 156. ]\n",
            " [ 23.5 173. ]\n",
            " [ 30.  135. ]\n",
            " [ 39.1  79. ]\n",
            " [ 39.   86. ]\n",
            " [ 35.1  81. ]\n",
            " [ 32.3  97. ]\n",
            " [ 37.   85. ]\n",
            " [ 37.7  89. ]\n",
            " [ 34.1  91. ]\n",
            " [ 34.7 105. ]\n",
            " [ 34.4  98. ]\n",
            " [ 29.9  98. ]\n",
            " [ 33.  105. ]\n",
            " [ 34.5 100. ]\n",
            " [ 33.7 107. ]\n",
            " [ 32.4 108. ]\n",
            " [ 32.9 119. ]\n",
            " [ 31.6 120. ]\n",
            " [ 28.1 141. ]\n",
            " [ 30.7 145. ]\n",
            " [ 25.4 168. ]\n",
            " [ 24.2 146. ]\n",
            " [ 22.4 231. ]\n",
            " [ 26.6 350. ]\n",
            " [ 20.2 200. ]\n",
            " [ 17.6 225. ]\n",
            " [ 28.  112. ]\n",
            " [ 27.  112. ]\n",
            " [ 34.  112. ]\n",
            " [ 31.  112. ]\n",
            " [ 29.  135. ]\n",
            " [ 27.  151. ]\n",
            " [ 24.  140. ]\n",
            " [ 23.  151. ]\n",
            " [ 36.  105. ]\n",
            " [ 37.   91. ]\n",
            " [ 31.   91. ]\n",
            " [ 38.  105. ]\n",
            " [ 36.   98. ]\n",
            " [ 36.  120. ]\n",
            " [ 36.  107. ]\n",
            " [ 34.  108. ]\n",
            " [ 38.   91. ]\n",
            " [ 32.   91. ]\n",
            " [ 38.   91. ]\n",
            " [ 25.  181. ]\n",
            " [ 38.  262. ]\n",
            " [ 26.  156. ]\n",
            " [ 22.  232. ]\n",
            " [ 32.  144. ]\n",
            " [ 36.  135. ]\n",
            " [ 27.  151. ]\n",
            " [ 27.  140. ]\n",
            " [ 44.   97. ]\n",
            " [ 32.  135. ]\n",
            " [ 28.  120. ]\n",
            " [ 31.  119. ]]\n"
          ]
        }
      ]
    },
    {
      "cell_type": "code",
      "metadata": {
        "id": "FzCHt9wkJmQk",
        "outputId": "3c8bfa38-55d7-4de8-def0-20e846d1d6e7"
      },
      "source": [
        "from scipy.linalg import lstsq\n",
        "import numpy as np\n",
        "import matplotlib.pyplot as plt\n",
        "\n",
        "# Sampling data set.\n",
        "prepareV = np.transpose(mat)\n",
        "yd = prepareV[0,]\n",
        "xd = prepareV[1,]\n",
        "\n",
        "# Solve the linear least squares problem.\n",
        "A = np.c_[xd[:, np.newaxis], np.ones(xd.shape[0])]\n",
        "B = yd\n",
        "X, residues, rank, s = lstsq(A, B)\n",
        "\n",
        "# Show the regression curve (line).\n",
        "a = X[0]\n",
        "b = X[1]\n",
        "print(f\"Line: y = {a:.3f}x {b:+.3f}\")"
      ],
      "execution_count": null,
      "outputs": [
        {
          "name": "stdout",
          "output_type": "stream",
          "text": [
            "Line: y = -0.060x +35.175\n"
          ]
        }
      ]
    },
    {
      "cell_type": "markdown",
      "metadata": {
        "id": "rdKUe_zJJmQk"
      },
      "source": [
        "#### ・Implement PREDICT-SIMPLE-LINREG and calculate the points for each training example in matrix A. (1 point) ####"
      ]
    },
    {
      "cell_type": "code",
      "metadata": {
        "id": "WnKID5L1JmQl",
        "outputId": "57c4b692-44dd-400d-d699-d239dd153ba3"
      },
      "source": [
        "y = []\n",
        "for i in xd:\n",
        "    y.append(-0.060*i +35.175)\n",
        "print(y)"
      ],
      "execution_count": null,
      "outputs": [
        {
          "name": "stdout",
          "output_type": "stream",
          "text": [
            "[16.755, 14.174999999999997, 16.095, 16.935, 17.054999999999996, 9.434999999999999, 7.934999999999999, 8.774999999999999, 7.8749999999999964, 11.774999999999999, 12.194999999999997, 14.774999999999999, 11.174999999999997, 7.8749999999999964, 28.394999999999996, 23.294999999999998, 23.235, 23.174999999999997, 29.354999999999997, 29.354999999999997, 28.574999999999996, 28.754999999999995, 28.934999999999995, 27.915, 23.235, 13.575, 16.755, 16.095, 16.935, 29.354999999999997, 26.775, 28.394999999999996, 29.294999999999998, 21.254999999999995, 21.674999999999997, 20.174999999999997, 20.174999999999997, 21.254999999999995, 14.174999999999997, 11.174999999999997, 14.114999999999998, 16.095, 12.194999999999997, 11.174999999999997, 11.174999999999997, 19.695, 26.775, 20.174999999999997, 20.174999999999997, 27.854999999999997, 28.214999999999996, 30.434999999999995, 29.894999999999996, 30.915, 30.854999999999997, 29.354999999999997, 29.714999999999996, 28.394999999999996, 29.324999999999996, 29.354999999999997, 26.775, 27.854999999999997, 14.174999999999997, 11.174999999999997, 16.095, 14.114999999999998, 16.935, 9.434999999999999, 14.174999999999997, 14.174999999999997, 11.174999999999997, 30.974999999999998, 16.935, 16.755, 17.054999999999996, 16.095, 27.915, 27.915, 27.974999999999998, 29.415, 27.854999999999997, 29.354999999999997, 27.974999999999998, 29.294999999999998, 29.354999999999997, 14.174999999999997, 16.935, 14.174999999999997, 17.054999999999996, 16.095, 9.434999999999999, 11.174999999999997, 14.114999999999998, 16.095, 8.774999999999999, 7.8749999999999964, 13.575, 21.674999999999997, 20.174999999999997, 21.254999999999995, 20.174999999999997, 23.294999999999998, 29.354999999999997, 11.174999999999997, 11.174999999999997, 13.575, 14.174999999999997, 21.254999999999995, 29.354999999999997, 26.775, 28.694999999999997, 30.974999999999998, 27.854999999999997, 25.875, 29.294999999999998, 14.174999999999997, 11.174999999999997, 31.095, 28.214999999999996, 28.334999999999997, 27.915, 16.095, 27.915, 25.814999999999998, 14.174999999999997, 23.294999999999998, 23.174999999999997, 21.254999999999995, 20.174999999999997, 30.434999999999995, 27.854999999999997, 30.915, 26.775, 20.174999999999997, 19.695, 21.674999999999997, 17.054999999999996, 14.174999999999997, 16.095, 17.054999999999996, 16.935, 29.294999999999998, 30.434999999999995, 29.354999999999997, 30.615, 30.194999999999997, 29.775, 29.775, 28.214999999999996, 27.974999999999998, 28.694999999999997, 30.434999999999995, 21.674999999999997, 20.174999999999997, 20.174999999999997, 20.174999999999997, 11.174999999999997, 14.174999999999997, 16.095, 14.114999999999998, 21.314999999999998, 20.174999999999997, 19.695, 21.674999999999997, 21.314999999999998, 19.455, 17.054999999999996, 29.354999999999997, 26.775, 21.254999999999995, 26.775, 27.134999999999998, 29.775, 28.034999999999997, 24.915, 29.775, 21.254999999999995, 28.275, 27.974999999999998, 27.915, 27.915, 29.714999999999996, 28.754999999999995, 28.214999999999996, 26.775, 29.294999999999998, 29.115, 16.874999999999996, 16.095, 16.935, 14.114999999999998, 21.674999999999997, 20.174999999999997, 23.174999999999997, 21.254999999999995, 30.074999999999996, 29.294999999999998, 29.775, 29.714999999999996, 21.674999999999997, 20.174999999999997, 20.174999999999997, 19.695, 29.354999999999997, 30.074999999999996, 29.354999999999997, 26.775, 27.374999999999996, 16.095, 27.974999999999998, 25.814999999999998, 25.095, 14.174999999999997, 14.174999999999997, 17.054999999999996, 16.095, 29.294999999999998, 28.514999999999997, 30.434999999999995, 27.854999999999997, 30.074999999999996, 16.874999999999996, 19.574999999999996, 16.095, 17.054999999999996, 20.174999999999997, 21.314999999999998, 21.674999999999997, 20.174999999999997, 11.174999999999997, 14.174999999999997, 11.174999999999997, 14.114999999999998, 29.354999999999997, 26.114999999999995, 29.354999999999997, 26.775, 29.294999999999998, 29.294999999999998, 29.354999999999997, 29.354999999999997, 26.415, 27.915, 30.374999999999996, 29.775, 29.294999999999998, 30.494999999999997, 30.074999999999996, 29.714999999999996, 19.574999999999996, 16.095, 17.054999999999996, 21.314999999999998, 23.174999999999997, 23.174999999999997, 26.775, 21.674999999999997, 21.254999999999995, 21.314999999999998, 23.174999999999997, 21.674999999999997, 19.695, 16.874999999999996, 21.314999999999998, 17.054999999999996, 16.095, 29.294999999999998, 27.134999999999998, 28.034999999999997, 28.874999999999996, 27.134999999999998, 25.814999999999998, 26.114999999999995, 28.034999999999997, 27.314999999999998, 25.394999999999996, 27.915, 25.394999999999996, 29.834999999999997, 29.294999999999998, 21.314999999999998, 23.174999999999997, 26.775, 21.254999999999995, 21.674999999999997, 16.874999999999996, 17.054999999999996, 14.114999999999998, 16.095, 14.174999999999997, 14.114999999999998, 19.154999999999998, 13.575, 29.834999999999997, 30.014999999999997, 29.294999999999998, 27.915, 24.194999999999997, 14.174999999999997, 26.714999999999996, 19.574999999999996, 28.874999999999996, 28.874999999999996, 30.074999999999996, 29.714999999999996, 26.114999999999995, 24.794999999999998, 24.794999999999998, 26.114999999999995, 29.294999999999998, 29.834999999999997, 29.294999999999998, 30.014999999999997, 26.114999999999995, 26.775, 26.114999999999995, 21.674999999999997, 29.354999999999997, 27.134999999999998, 27.974999999999998, 28.034999999999997, 28.694999999999997, 30.014999999999997, 25.814999999999998, 30.074999999999996, 29.775, 29.775, 27.915, 26.415, 29.714999999999996, 30.074999999999996, 29.354999999999997, 29.834999999999997, 25.095, 30.974999999999998, 27.854999999999997, 26.775, 28.754999999999995, 27.074999999999996, 26.114999999999995, 25.814999999999998, 24.794999999999998, 27.074999999999996, 30.434999999999995, 30.014999999999997, 30.314999999999998, 29.354999999999997, 30.074999999999996, 29.834999999999997, 29.714999999999996, 28.874999999999996, 29.294999999999998, 29.294999999999998, 28.874999999999996, 29.174999999999997, 28.754999999999995, 28.694999999999997, 28.034999999999997, 27.974999999999998, 26.714999999999996, 26.474999999999998, 25.095, 26.415, 21.314999999999998, 14.174999999999997, 23.174999999999997, 21.674999999999997, 28.455, 28.455, 28.455, 28.455, 27.074999999999996, 26.114999999999995, 26.775, 26.114999999999995, 28.874999999999996, 29.714999999999996, 29.714999999999996, 28.874999999999996, 29.294999999999998, 27.974999999999998, 28.754999999999995, 28.694999999999997, 29.714999999999996, 29.714999999999996, 29.714999999999996, 24.314999999999998, 19.455, 25.814999999999998, 21.254999999999995, 26.534999999999997, 27.074999999999996, 26.114999999999995, 26.775, 29.354999999999997, 27.074999999999996, 27.974999999999998, 28.034999999999997]\n"
          ]
        }
      ]
    },
    {
      "cell_type": "markdown",
      "metadata": {
        "id": "zlqeuMA1JmQl"
      },
      "source": [
        "#### ・Plot the training data (use plt.scatter) and your predicted line (use plt.plot). (1 point) ####"
      ]
    },
    {
      "cell_type": "code",
      "metadata": {
        "id": "9wQxBJ1NJmQl",
        "outputId": "9a9e6f3b-6e4a-4804-bb5c-3507b977727c"
      },
      "source": [
        "plt.figure()\n",
        "xs = np.r_[min(xd):max(xd):15j]\n",
        "ys = a * xs + b\n",
        "plt.title(\"training data and your predicted line \")\n",
        "plt.xlabel(\"x\")\n",
        "plt.ylabel(\"y\")\n",
        "plt.plot(xs, ys)\n",
        "plt.scatter(xd, yd,color=\"k\")\n",
        "plt.legend()\n",
        "plt.show()"
      ],
      "execution_count": null,
      "outputs": [
        {
          "name": "stderr",
          "output_type": "stream",
          "text": [
            "No handles with labels found to put in legend.\n"
          ]
        },
        {
          "data": {
            "image/png": "[encoded data removed]",
            "text/plain": [
              "<Figure size 432x288 with 1 Axes>"
            ]
          },
          "metadata": {},
          "output_type": "display_data"
        }
      ]
    },
    {
      "cell_type": "markdown",
      "metadata": {
        "id": "Omhw7_P8JmQl"
      },
      "source": [
        "#### ・Repeat the above but change the indepedant variable to [\"horsepower\",\"weight\",\"acceleration\"], Dependant variable stays as MPG. ####"
      ]
    }
  ]
}